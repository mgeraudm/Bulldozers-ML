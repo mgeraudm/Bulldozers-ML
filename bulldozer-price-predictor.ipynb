{
 "cells": [
  {
   "cell_type": "markdown",
   "metadata": {},
   "source": [
    "# predicting the sale price of bulldozers using ML\n",
    "\n",
    "* problem definition\n",
    "> how well can we predict the future sale price of its characteristics and previous examples\n",
    "\n",
    "* data\n",
    "> data is from kaggle bluebook bulldozer competition: https://www.kaggle.com/competitions/bluebook-for-bulldozers/data\n",
    "Train.csv is the training set, which contains data through the end of 2011.\n",
    "Valid.csv is the validation set, which contains data from January 1, 2012 - April 30, 2012. Your score on this set is used to create the public leaderboard.\n",
    "Test.csv is the test set. It contains data from May 1, 2012 - November 2012. \n",
    "\n",
    "* evaluation\n",
    "> The evaluation metric for this competition is the RMSLE (root mean squared log error) between the actual and predicted auction prices.\n",
    "\n",
    "* features\n",
    "> Data Dictionary: https://www.kaggle.com/competitions/bluebook-for-bulldozers/data?select=Data+Dictionary.xlsx\n"
   ]
  },
  {
   "cell_type": "code",
   "execution_count": null,
   "metadata": {},
   "outputs": [],
   "source": [
    "import pandas as pd\n",
    "import numpy as np\n",
    "import matplotlib.pyplot as plt\n",
    "import sklearn "
   ]
  },
  {
   "cell_type": "code",
   "execution_count": null,
   "metadata": {},
   "outputs": [],
   "source": [
    "#importing data and parsing date fields so they can be read\n",
    "df= pd.read_csv(\"../data/bulldozers/TrainAndValid.csv\",\n",
    "                low_memory=False, \n",
    "                parse_dates=[\"saledate\"])\n",
    "df.info()\n",
    "df.isna().sum()\n",
    "df.SalePrice.plot.hist()\n",
    "fig,ax=plt.subplots()\n",
    "ax.scatter(df[\"saledate\"][:5000],df[\"SalePrice\"][:5000] );"
   ]
  },
  {
   "cell_type": "code",
   "execution_count": null,
   "metadata": {},
   "outputs": [],
   "source": [
    "##Sort dataframe by saledate\n",
    "#when working with time series data is good practice to sort it\n",
    "\n",
    "df.sort_values(by=[\"saledate\"],\n",
    "               inplace=True,\n",
    "               ascending=True)\n",
    "dftmp=df.copy()\n",
    "fig,ax=plt.subplots()\n",
    "ax.scatter(dftmp[\"saledate\"][:5000],dftmp[\"SalePrice\"][:5000] );\n"
   ]
  },
  {
   "cell_type": "code",
   "execution_count": null,
   "metadata": {},
   "outputs": [],
   "source": [
    "## Feature Engineering\n",
    "# Add datetime parameters & remove \"saledate\" column\n",
    "dftmp[\"saleYear\"]=dftmp.saledate.dt.year\n",
    "dftmp[\"saleMonth\"]=dftmp.saledate.dt.month\n",
    "dftmp[\"saleDay\"]=dftmp.saledate.dt.day\n",
    "dftmp[\"saleDayofWeek\"]=dftmp.saledate.dt.dayofweek\n",
    "dftmp[\"saleDayofYear\"]=dftmp.saledate.dt.dayofyear\n",
    "dftmp.drop(\"saledate\", axis=1, inplace=True)\n"
   ]
  },
  {
   "cell_type": "code",
   "execution_count": null,
   "metadata": {},
   "outputs": [],
   "source": [
    "#Model driven EDA\n",
    "\n",
    "from sklearn.ensemble import RandomForestRegressor\n",
    "model = RandomForestRegressor(n_jobs=-1, random_state=42)"
   ]
  },
  {
   "cell_type": "code",
   "execution_count": null,
   "metadata": {},
   "outputs": [],
   "source": [
    "#Convert strings into categories\n",
    "#One way is to convert into panda categories, documentation here: #\n",
    "# https://pandas.pydata.org/pandas-docs/stable/reference/general_utility_functions.html/#data-types-related-functionality\n",
    "#1-find the columns containing strings and convert them\n",
    "\n",
    "for label, content in df.items():\n",
    "    if pd.api.types.is_string_dtype(content):\n",
    "        dftmp[label] = content.astype(\"category\").cat.as_ordered()\n",
    "dftmp.info()\n"
   ]
  },
  {
   "cell_type": "code",
   "execution_count": null,
   "metadata": {},
   "outputs": [],
   "source": [
    "#now we have a way to access all our data in the form of numbers:\n",
    "dftmp.state.cat.categories\n",
    "dftmp.state.cat.codes\n",
    "pd.Categorical(dftmp[\"state\"]).codes"
   ]
  },
  {
   "cell_type": "code",
   "execution_count": null,
   "metadata": {},
   "outputs": [],
   "source": [
    "##Fill numeric missing values\n",
    "\n",
    "#how many null value percent do we have per column? \n",
    "dftmp.isnull().sum()/len(dftmp)\n",
    "#which columns are numeric\n",
    "for label, content in dftmp.items():\n",
    "    if pd.api.types.is_numeric_dtype(content):\n",
    "        print(label)\n",
    "       \n",
    " #which have null values & fill with median\n",
    "for label, content in dftmp.items():\n",
    "    if pd.api.types.is_numeric_dtype(content):\n",
    "        if pd.isnull(content).sum():\n",
    "            print(label)\n",
    "            #add a binary column which tells us if the data was missing\n",
    "            dftmp[label+\"_missing\"] = pd.isnull(content)\n",
    "            #now fill\n",
    "            dftmp[label] = content.fillna(content.median())\n",
    "            \n"
   ]
  },
  {
   "cell_type": "code",
   "execution_count": null,
   "metadata": {},
   "outputs": [],
   "source": [
    "## Filling and turning categoricals into numbers\n",
    "for label, content in dftmp.items():\n",
    "    if not pd.api.types.is_numeric_dtype(content):\n",
    "        #add binary column to indicate whether sample had missing that value\n",
    "        dftmp[label+\"_missing\"]=pd.isnull(content)\n",
    "        #turn categories into numbers and add +1, because panda categories uses -1 as a filler over the NaNs\n",
    "        dftmp[label] = pd.Categorical(content).codes + 1"
   ]
  },
  {
   "cell_type": "code",
   "execution_count": null,
   "metadata": {},
   "outputs": [],
   "source": [
    "#how many null value percent do we have per column now? \n",
    "dftmp.isnull().sum()/len(dftmp)\n",
    "dftmp.info()\n",
    "dftmp.head().T"
   ]
  },
  {
   "cell_type": "code",
   "execution_count": null,
   "metadata": {},
   "outputs": [],
   "source": [
    "#NOW we can fit the model\n",
    "model=RandomForestRegressor(n_jobs=-1)\n",
    "model.fit(dftmp.drop(\"SalePrice\", axis=1), dftmp[\"SalePrice\"])\n"
   ]
  },
  {
   "cell_type": "code",
   "execution_count": null,
   "metadata": {},
   "outputs": [],
   "source": [
    "model.score(dftmp.drop(\"SalePrice\", axis=1), dftmp[\"SalePrice\"])"
   ]
  },
  {
   "cell_type": "code",
   "execution_count": null,
   "metadata": {},
   "outputs": [],
   "source": [
    "#however... This set is holding the Training and validation data. For an acurate reading we need to split it correctly so:\n",
    "#Validation data is the ones ran in 2012:\n",
    "dftmp.saleYear.value_counts()\n"
   ]
  },
  {
   "cell_type": "code",
   "execution_count": null,
   "metadata": {},
   "outputs": [],
   "source": [
    "#split it\n",
    "dfval = dftmp[dftmp.saleYear == 2012]\n",
    "dftrain = dftmp[dftmp.saleYear != 2012]\n",
    "len(dfval), len(dftrain)\n",
    "\n",
    "X_train, y_train = dftrain.drop(\"SalePrice\", axis=1), dftrain.SalePrice\n",
    "\n",
    "X_val, y_val = dfval.drop(\"SalePrice\", axis=1), dfval.SalePrice\n",
    "\n",
    "X_train.shape, y_train.shape, X_val.shape, y_val.shape"
   ]
  },
  {
   "cell_type": "code",
   "execution_count": null,
   "metadata": {},
   "outputs": [],
   "source": [
    "#Building the custom evaluation function\n",
    "#since the rules of the game stated to evaluate with the RMSLE, and sklearn.metrics does not include that particular one, we need to build it from:\n",
    "from sklearn.metrics import mean_absolute_error, r2_score, mean_squared_log_error\n",
    "#calculate the root mean squared log error between predicitons and true values\n",
    "def rmsle(y_test, y_preds):\n",
    "    return np.sqrt(mean_squared_log_error(y_test, y_preds))\n",
    "\n",
    "def show_scores(model):\n",
    "    train_preds=model.predict(X_train)\n",
    "    val_preds=model.predict(X_val)\n",
    "    scores = {\"Training MAE\": mean_absolute_error(y_train, train_preds),\n",
    "              \"Valid MAE\": mean_absolute_error(y_val,val_preds),\n",
    "              \"Training RMSLE\": rmsle(y_train, train_preds),\n",
    "              \"Valid RMSLE\": rmsle(y_val, val_preds),\n",
    "              \"Trainin R2\": r2_score(y_train, train_preds),\n",
    "              \"Valid R2\": r2_score(y_val, val_preds)      \n",
    "    }\n",
    "    return scores"
   ]
  },
  {
   "cell_type": "code",
   "execution_count": null,
   "metadata": {},
   "outputs": [],
   "source": [
    "#Testing our model on a subset (to tune our hyperparamenters)\n",
    "#we can try with:  model.fit(X_train[:10000], y_train[:10000])\n",
    "#or: \n",
    "\n",
    "model = RandomForestRegressor(n_jobs=-1, random_state=42, max_samples=10000)\n",
    "model.fit(X_train,y_train)\n",
    "\n"
   ]
  },
  {
   "cell_type": "code",
   "execution_count": null,
   "metadata": {},
   "outputs": [],
   "source": [
    "show_scores(model)\n",
    "#If the Training MAE is higher than the Valid MAE, means we are overfitting, the other way around should be fine..."
   ]
  },
  {
   "cell_type": "code",
   "execution_count": null,
   "metadata": {},
   "outputs": [],
   "source": [
    "#To adjust hyperparameters, we shall use the RandomizedSearchCV on RandomForest\n",
    "from sklearn.model_selection import RandomizedSearchCV\n",
    "rf_grid={\"n_estimators\":np.arange(10,100,10),\n",
    "         \"max_depth\":[None,3,5,10],\n",
    "         \"min_samples_split\":np.arange(2,20,2),\n",
    "         \"min_samples_leaf\":np.arange(1,20,2),\n",
    "         \"max_features\":[0.5,1,\"sqrt\"],\n",
    "         \"max_samples\":[10000]}\n",
    "rs_model=RandomizedSearchCV(RandomForestRegressor(n_jobs=-1, \n",
    "                                                  random_state=42),\n",
    "                                                  param_distributions=rf_grid,\n",
    "                                                  n_iter=30,\n",
    "                                                  cv=5,\n",
    "                                                  verbose=True)\n",
    "rs_model.fit(X_train,y_train)\n",
    "rs_model.best_params_\n",
    "show_scores(rs_model)"
   ]
  },
  {
   "cell_type": "code",
   "execution_count": null,
   "metadata": {},
   "outputs": [],
   "source": [
    "rs_model.best_params_"
   ]
  },
  {
   "cell_type": "code",
   "execution_count": null,
   "metadata": {},
   "outputs": [],
   "source": [
    "show_scores(rs_model)"
   ]
  },
  {
   "cell_type": "code",
   "execution_count": null,
   "metadata": {},
   "outputs": [],
   "source": [
    "ideal_model=RandomForestRegressor(n_jobs=-1, \n",
    "                                random_state=42,\n",
    "                                n_estimators=90,\n",
    "                                max_depth=None,\n",
    "                                min_samples_split=6,\n",
    "                                min_samples_leaf=1,\n",
    "                                max_features=0.5,\n",
    "                                max_samples=None)\n",
    "ideal_model.fit(X_train,y_train)\n",
    "show_scores(ideal_model)"
   ]
  },
  {
   "cell_type": "code",
   "execution_count": null,
   "metadata": {},
   "outputs": [],
   "source": [
    "#NOW, the test data to make the predictions:...\n",
    "df_test=pd.read_csv(\"../data/bulldozers/Test.csv\", low_memory=False, \n",
    "                parse_dates=[\"saledate\"])\n",
    "df_test.head()"
   ]
  },
  {
   "cell_type": "code",
   "execution_count": null,
   "metadata": {},
   "outputs": [],
   "source": [
    "\n",
    "#We need to adjust and manipulate everything we did to the original DataFrame (X_train) to match them two\n",
    "def preprocess_data(df):\n",
    "# Add datetime parameters & remove \"saledate\" column\n",
    "    df[\"saleYear\"]=df.saledate.dt.year\n",
    "    df[\"saleMonth\"]=df.saledate.dt.month\n",
    "    df[\"saleDay\"]=df.saledate.dt.day\n",
    "    df[\"saleDayofWeek\"]=df.saledate.dt.dayofweek\n",
    "    df[\"saleDayofYear\"]=df.saledate.dt.dayofyear\n",
    "    df.drop(\"saledate\", axis=1, inplace=True)\n",
    "   #Convert strings into categories\n",
    "    for label, content in df.items():\n",
    "       if pd.api.types.is_string_dtype(content):\n",
    "          df[label] = content.astype(\"category\").cat.as_ordered()\n",
    "    df.info()\n",
    "    \n",
    "    ##Fill numeric missing values\n",
    "    #which have null values & fill with median\n",
    "    for label, content in df.items():\n",
    "        if pd.api.types.is_numeric_dtype(content):\n",
    "            if pd.isnull(content).sum():\n",
    "                #add a binary column which tells us if the data was missing\n",
    "                df[label+\"_missing\"] = pd.isnull(content)\n",
    "                #now fill\n",
    "                df[label] = content.fillna(content.median())\n",
    "                \n",
    "    ## Filling and turning categoricals into numbers\n",
    "        if not pd.api.types.is_numeric_dtype(content):\n",
    "            #add binary column to indicate whether sample had missing that value\n",
    "            df[label+\"_missing\"]=pd.isnull(content)\n",
    "            #turn categories into numbers and add +1, because panda categories uses -1 as a filler over the NaNs\n",
    "            df[label] = pd.Categorical(content).codes + 1\n",
    "            \n",
    "    return df\n"
   ]
  },
  {
   "cell_type": "code",
   "execution_count": null,
   "metadata": {},
   "outputs": [],
   "source": [
    "df_test=preprocess_data(df_test)\n",
    "df_test.head()"
   ]
  },
  {
   "cell_type": "code",
   "execution_count": null,
   "metadata": {},
   "outputs": [],
   "source": [
    "#We can see that the df_test has only 101 columns whilst the df_train has 102...\n",
    "set(X_train.columns)-set(df_test.columns)"
   ]
  },
  {
   "cell_type": "code",
   "execution_count": null,
   "metadata": {},
   "outputs": [],
   "source": [
    "df_test['MachineHoursCurrentMeter missing', 'auctioneerID missing']=False\n",
    "df_test.head()"
   ]
  },
  {
   "cell_type": "code",
   "execution_count": 97,
   "metadata": {},
   "outputs": [
    {
     "name": "stderr",
     "output_type": "stream",
     "text": [
      "c:\\Users\\Mau\\Downloads\\PYTHON\\zero-to-mastery-ml-master\\venvname\\lib\\site-packages\\sklearn\\utils\\validation.py:1858: FutureWarning: Feature names only support names that are all strings. Got feature names with dtypes: ['str', 'tuple']. An error will be raised in 1.2.\n",
      "  warnings.warn(\n",
      "c:\\Users\\Mau\\Downloads\\PYTHON\\zero-to-mastery-ml-master\\venvname\\lib\\site-packages\\sklearn\\base.py:450: UserWarning: X does not have valid feature names, but RandomForestRegressor was fitted with feature names\n",
      "  warnings.warn(\n"
     ]
    }
   ],
   "source": [
    "#make predicitons on the test data, finally\n",
    "test_preds = ideal_model.predict(df_test)"
   ]
  },
  {
   "cell_type": "code",
   "execution_count": 100,
   "metadata": {},
   "outputs": [],
   "source": [
    "#to make this presentable, as the original competition, we shall format it:...\n",
    "#https://www.kaggle.com/competitions/bluebook-for-bulldozers/overview/evaluation\n",
    "df_preds = pd.DataFrame()\n",
    "df_preds[\"SalesID\"]=df_test[\"SalesID\"]\n",
    "df_preds[\"SalesPrice\"]=test_preds\n",
    "df_preds\n",
    "#Export to csv\n",
    "df_preds.to_csv(\"../data/bulldozers/test_predictions.csv\")"
   ]
  },
  {
   "cell_type": "code",
   "execution_count": 118,
   "metadata": {},
   "outputs": [],
   "source": [
    "#FInally, which data provided had the most relevance for our predictions...\n",
    "# = Feature Importance\n",
    "ideal_model.feature_importances_\n",
    "#better plot it...\n",
    "#Helper function to plot it\n",
    "def plot_features(columns, importances):\n",
    "    df=(pd.DataFrame({\"features\":columns,\n",
    "                      \"feature_importances\": importances})\n",
    "        .sort_values(\"feature_importances\",\n",
    "                     ascending=False)\n",
    "        .reset_index(drop=True))\n",
    "    fig, ax=plt.subplots()\n",
    "    ax.barh(df[\"features\"][:20], df[\"feature_importances\"][:20])\n",
    "    ax.set_ylabel(\"Features\")\n",
    "    ax.set_xlabel(\"Feature importance\")\n",
    "    ax.invert_yaxis()"
   ]
  },
  {
   "cell_type": "code",
   "execution_count": 119,
   "metadata": {},
   "outputs": [
    {
     "data": {
      "image/png": "[encoded data removed]",
      "text/plain": [
       "<Figure size 640x480 with 1 Axes>"
      ]
     },
     "metadata": {},
     "output_type": "display_data"
    }
   ],
   "source": [
    "\n",
    "plot_features(X_train.columns, \n",
    "ideal_model.feature_importances_)"
   ]
  },
  {
   "cell_type": "code",
   "execution_count": 120,
   "metadata": {},
   "outputs": [
    {
     "data": {
      "text/plain": [
       "Medium            2030\n",
       "Large / Medium    1695\n",
       "Mini               997\n",
       "Small              724\n",
       "Large              444\n",
       "Compact            158\n",
       "Name: ProductSize, dtype: int64"
      ]
     },
     "execution_count": 120,
     "metadata": {},
     "output_type": "execute_result"
    }
   ],
   "source": [
    "df[\"ProductSize\"].value_counts()"
   ]
  },
  {
   "cell_type": "code",
   "execution_count": 122,
   "metadata": {},
   "outputs": [
    {
     "data": {
      "text/plain": [
       "OROPS         4916\n",
       "EROPS w AC    4273\n",
       "EROPS         3266\n",
       "Name: Enclosure, dtype: int64"
      ]
     },
     "execution_count": 122,
     "metadata": {},
     "output_type": "execute_result"
    }
   ],
   "source": [
    "df[\"Enclosure\"].value_counts()"
   ]
  }
 ],
 "metadata": {
  "kernelspec": {
   "display_name": "Python 3.10.4 ('venvname': venv)",
   "language": "python",
   "name": "python3"
  },
  "language_info": {
   "codemirror_mode": {
    "name": "ipython",
    "version": 3
   },
   "file_extension": ".py",
   "mimetype": "text/x-python",
   "name": "python",
   "nbconvert_exporter": "python",
   "pygments_lexer": "ipython3",
   "version": "3.10.4"
  },
  "orig_nbformat": 4,
  "vscode": {
   "interpreter": {
    "hash": "427d8dac2840ddb0f62978057e819f5404bc38c9fd0e501bd3fbdd4907adb501"
   }
  }
 },
 "nbformat": 4,
 "nbformat_minor": 2
}
